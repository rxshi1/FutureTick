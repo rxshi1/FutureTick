{
 "cells": [
  {
   "cell_type": "code",
   "execution_count": 2,
   "id": "88daae9b",
   "metadata": {},
   "outputs": [],
   "source": [
    "import numpy as np\n",
    "import pandas as pd\n",
    "import matplotlib.pyplot as plt\n",
    "import pandas_datareader as data\n",
    "import pandas_datareader.data as web\n",
    "import yfinance as yf"
   ]
  },
  {
   "cell_type": "code",
   "execution_count": 3,
   "id": "7d6c232c",
   "metadata": {},
   "outputs": [
    {
     "name": "stderr",
     "output_type": "stream",
     "text": [
      "C:\\Users\\Asus\\AppData\\Local\\Temp\\ipykernel_20612\\3023273793.py:8: FutureWarning: YF.download() has changed argument auto_adjust default to True\n",
      "  df = yf.download('AAPL', start=start, end=end)\n",
      "[*********************100%***********************]  1 of 1 completed"
     ]
    },
    {
     "name": "stdout",
     "output_type": "stream",
     "text": [
      "Price           Close       High        Low       Open     Volume\n",
      "Date                                                             \n",
      "2012-01-03  12.359181  12.397351  12.292161  12.304183  302220800\n",
      "2012-01-04  12.425602  12.462870  12.300577  12.322216  260022000\n",
      "2012-01-05  12.563554  12.579182  12.402463  12.470987  271269600\n",
      "2012-01-06  12.694889  12.705408  12.599317  12.615847  318292800\n",
      "2012-01-09  12.674754  12.855681  12.663333  12.788059  394024400\n"
     ]
    },
    {
     "name": "stderr",
     "output_type": "stream",
     "text": [
      "\n"
     ]
    }
   ],
   "source": [
    "import yfinance as yf\n",
    "\n",
    "# Set your date range\n",
    "start = '2012-01-01'\n",
    "end = '2022-12-31'\n",
    "\n",
    "# Download data directly using yfinance\n",
    "df = yf.download('AAPL', start=start, end=end)\n",
    "\n",
    "if isinstance(df.columns, pd.MultiIndex):\n",
    "    df.columns = df.columns.get_level_values(0)\n",
    "\n",
    "# Show the first 5 rows\n",
    "print(df.head())\n"
   ]
  },
  {
   "cell_type": "code",
   "execution_count": 4,
   "id": "5df17e5c",
   "metadata": {},
   "outputs": [
    {
     "data": {
      "text/html": [
       "<div>\n",
       "<style scoped>\n",
       "    .dataframe tbody tr th:only-of-type {\n",
       "        vertical-align: middle;\n",
       "    }\n",
       "\n",
       "    .dataframe tbody tr th {\n",
       "        vertical-align: top;\n",
       "    }\n",
       "\n",
       "    .dataframe thead th {\n",
       "        text-align: right;\n",
       "    }\n",
       "</style>\n",
       "<table border=\"1\" class=\"dataframe\">\n",
       "  <thead>\n",
       "    <tr style=\"text-align: right;\">\n",
       "      <th>Price</th>\n",
       "      <th>Close</th>\n",
       "      <th>High</th>\n",
       "      <th>Low</th>\n",
       "      <th>Open</th>\n",
       "      <th>Volume</th>\n",
       "    </tr>\n",
       "    <tr>\n",
       "      <th>Date</th>\n",
       "      <th></th>\n",
       "      <th></th>\n",
       "      <th></th>\n",
       "      <th></th>\n",
       "      <th></th>\n",
       "    </tr>\n",
       "  </thead>\n",
       "  <tbody>\n",
       "    <tr>\n",
       "      <th>2022-12-23</th>\n",
       "      <td>130.173798</td>\n",
       "      <td>130.726634</td>\n",
       "      <td>127.982185</td>\n",
       "      <td>129.245816</td>\n",
       "      <td>63814900</td>\n",
       "    </tr>\n",
       "    <tr>\n",
       "      <th>2022-12-27</th>\n",
       "      <td>128.367188</td>\n",
       "      <td>129.729545</td>\n",
       "      <td>127.073942</td>\n",
       "      <td>129.699930</td>\n",
       "      <td>69007800</td>\n",
       "    </tr>\n",
       "    <tr>\n",
       "      <th>2022-12-28</th>\n",
       "      <td>124.428215</td>\n",
       "      <td>129.354401</td>\n",
       "      <td>124.260391</td>\n",
       "      <td>128.011792</td>\n",
       "      <td>85438400</td>\n",
       "    </tr>\n",
       "    <tr>\n",
       "      <th>2022-12-29</th>\n",
       "      <td>127.952568</td>\n",
       "      <td>128.811438</td>\n",
       "      <td>126.096612</td>\n",
       "      <td>126.353282</td>\n",
       "      <td>75703700</td>\n",
       "    </tr>\n",
       "    <tr>\n",
       "      <th>2022-12-30</th>\n",
       "      <td>128.268463</td>\n",
       "      <td>128.288212</td>\n",
       "      <td>125.800440</td>\n",
       "      <td>126.767912</td>\n",
       "      <td>77034200</td>\n",
       "    </tr>\n",
       "  </tbody>\n",
       "</table>\n",
       "</div>"
      ],
      "text/plain": [
       "Price            Close        High         Low        Open    Volume\n",
       "Date                                                                \n",
       "2022-12-23  130.173798  130.726634  127.982185  129.245816  63814900\n",
       "2022-12-27  128.367188  129.729545  127.073942  129.699930  69007800\n",
       "2022-12-28  124.428215  129.354401  124.260391  128.011792  85438400\n",
       "2022-12-29  127.952568  128.811438  126.096612  126.353282  75703700\n",
       "2022-12-30  128.268463  128.288212  125.800440  126.767912  77034200"
      ]
     },
     "execution_count": 4,
     "metadata": {},
     "output_type": "execute_result"
    }
   ],
   "source": [
    "df.tail()"
   ]
  },
  {
   "cell_type": "code",
   "execution_count": 5,
   "id": "9faff007",
   "metadata": {},
   "outputs": [
    {
     "name": "stdout",
     "output_type": "stream",
     "text": [
      "Price\n",
      "Close     0\n",
      "High      0\n",
      "Low       0\n",
      "Open      0\n",
      "Volume    0\n",
      "dtype: int64\n"
     ]
    }
   ],
   "source": [
    "print(df.isnull().sum())\n"
   ]
  },
  {
   "cell_type": "code",
   "execution_count": 6,
   "id": "4ccffd2c",
   "metadata": {},
   "outputs": [
    {
     "name": "stdout",
     "output_type": "stream",
     "text": [
      "Price\n",
      "Close     float64\n",
      "High      float64\n",
      "Low       float64\n",
      "Open      float64\n",
      "Volume      int64\n",
      "dtype: object\n"
     ]
    }
   ],
   "source": [
    "print(df.dtypes)\n"
   ]
  },
  {
   "cell_type": "code",
   "execution_count": 7,
   "id": "cede1f67",
   "metadata": {},
   "outputs": [
    {
     "data": {
      "text/html": [
       "<div>\n",
       "<style scoped>\n",
       "    .dataframe tbody tr th:only-of-type {\n",
       "        vertical-align: middle;\n",
       "    }\n",
       "\n",
       "    .dataframe tbody tr th {\n",
       "        vertical-align: top;\n",
       "    }\n",
       "\n",
       "    .dataframe thead th {\n",
       "        text-align: right;\n",
       "    }\n",
       "</style>\n",
       "<table border=\"1\" class=\"dataframe\">\n",
       "  <thead>\n",
       "    <tr style=\"text-align: right;\">\n",
       "      <th>Price</th>\n",
       "      <th>Date</th>\n",
       "      <th>Close</th>\n",
       "      <th>High</th>\n",
       "      <th>Low</th>\n",
       "      <th>Open</th>\n",
       "      <th>Volume</th>\n",
       "    </tr>\n",
       "  </thead>\n",
       "  <tbody>\n",
       "    <tr>\n",
       "      <th>0</th>\n",
       "      <td>2012-01-03</td>\n",
       "      <td>12.359181</td>\n",
       "      <td>12.397351</td>\n",
       "      <td>12.292161</td>\n",
       "      <td>12.304183</td>\n",
       "      <td>302220800</td>\n",
       "    </tr>\n",
       "    <tr>\n",
       "      <th>1</th>\n",
       "      <td>2012-01-04</td>\n",
       "      <td>12.425602</td>\n",
       "      <td>12.462870</td>\n",
       "      <td>12.300577</td>\n",
       "      <td>12.322216</td>\n",
       "      <td>260022000</td>\n",
       "    </tr>\n",
       "    <tr>\n",
       "      <th>2</th>\n",
       "      <td>2012-01-05</td>\n",
       "      <td>12.563554</td>\n",
       "      <td>12.579182</td>\n",
       "      <td>12.402463</td>\n",
       "      <td>12.470987</td>\n",
       "      <td>271269600</td>\n",
       "    </tr>\n",
       "    <tr>\n",
       "      <th>3</th>\n",
       "      <td>2012-01-06</td>\n",
       "      <td>12.694889</td>\n",
       "      <td>12.705408</td>\n",
       "      <td>12.599317</td>\n",
       "      <td>12.615847</td>\n",
       "      <td>318292800</td>\n",
       "    </tr>\n",
       "    <tr>\n",
       "      <th>4</th>\n",
       "      <td>2012-01-09</td>\n",
       "      <td>12.674754</td>\n",
       "      <td>12.855681</td>\n",
       "      <td>12.663333</td>\n",
       "      <td>12.788059</td>\n",
       "      <td>394024400</td>\n",
       "    </tr>\n",
       "  </tbody>\n",
       "</table>\n",
       "</div>"
      ],
      "text/plain": [
       "Price       Date      Close       High        Low       Open     Volume\n",
       "0     2012-01-03  12.359181  12.397351  12.292161  12.304183  302220800\n",
       "1     2012-01-04  12.425602  12.462870  12.300577  12.322216  260022000\n",
       "2     2012-01-05  12.563554  12.579182  12.402463  12.470987  271269600\n",
       "3     2012-01-06  12.694889  12.705408  12.599317  12.615847  318292800\n",
       "4     2012-01-09  12.674754  12.855681  12.663333  12.788059  394024400"
      ]
     },
     "execution_count": 7,
     "metadata": {},
     "output_type": "execute_result"
    }
   ],
   "source": [
    "df = df.reset_index()\n",
    "df.head()"
   ]
  },
  {
   "cell_type": "code",
   "execution_count": 8,
   "id": "fd974f55",
   "metadata": {},
   "outputs": [
    {
     "name": "stdout",
     "output_type": "stream",
     "text": [
      "Index(['Date', 'Close', 'High', 'Low', 'Open', 'Volume'], dtype='object', name='Price')\n"
     ]
    }
   ],
   "source": [
    "print(df.columns)\n"
   ]
  },
  {
   "cell_type": "code",
   "execution_count": 9,
   "id": "ce3dcdc6",
   "metadata": {},
   "outputs": [
    {
     "data": {
      "text/html": [
       "<div>\n",
       "<style scoped>\n",
       "    .dataframe tbody tr th:only-of-type {\n",
       "        vertical-align: middle;\n",
       "    }\n",
       "\n",
       "    .dataframe tbody tr th {\n",
       "        vertical-align: top;\n",
       "    }\n",
       "\n",
       "    .dataframe thead th {\n",
       "        text-align: right;\n",
       "    }\n",
       "</style>\n",
       "<table border=\"1\" class=\"dataframe\">\n",
       "  <thead>\n",
       "    <tr style=\"text-align: right;\">\n",
       "      <th>Price</th>\n",
       "      <th>Close</th>\n",
       "      <th>High</th>\n",
       "      <th>Low</th>\n",
       "      <th>Open</th>\n",
       "    </tr>\n",
       "  </thead>\n",
       "  <tbody>\n",
       "    <tr>\n",
       "      <th>0</th>\n",
       "      <td>12.359181</td>\n",
       "      <td>12.397351</td>\n",
       "      <td>12.292161</td>\n",
       "      <td>12.304183</td>\n",
       "    </tr>\n",
       "    <tr>\n",
       "      <th>1</th>\n",
       "      <td>12.425602</td>\n",
       "      <td>12.462870</td>\n",
       "      <td>12.300577</td>\n",
       "      <td>12.322216</td>\n",
       "    </tr>\n",
       "    <tr>\n",
       "      <th>2</th>\n",
       "      <td>12.563554</td>\n",
       "      <td>12.579182</td>\n",
       "      <td>12.402463</td>\n",
       "      <td>12.470987</td>\n",
       "    </tr>\n",
       "    <tr>\n",
       "      <th>3</th>\n",
       "      <td>12.694889</td>\n",
       "      <td>12.705408</td>\n",
       "      <td>12.599317</td>\n",
       "      <td>12.615847</td>\n",
       "    </tr>\n",
       "    <tr>\n",
       "      <th>4</th>\n",
       "      <td>12.674754</td>\n",
       "      <td>12.855681</td>\n",
       "      <td>12.663333</td>\n",
       "      <td>12.788059</td>\n",
       "    </tr>\n",
       "  </tbody>\n",
       "</table>\n",
       "</div>"
      ],
      "text/plain": [
       "Price      Close       High        Low       Open\n",
       "0      12.359181  12.397351  12.292161  12.304183\n",
       "1      12.425602  12.462870  12.300577  12.322216\n",
       "2      12.563554  12.579182  12.402463  12.470987\n",
       "3      12.694889  12.705408  12.599317  12.615847\n",
       "4      12.674754  12.855681  12.663333  12.788059"
      ]
     },
     "execution_count": 9,
     "metadata": {},
     "output_type": "execute_result"
    }
   ],
   "source": [
    "df = df.drop(['Date','Volume'],axis = 1)\n",
    "df.head()"
   ]
  },
  {
   "cell_type": "code",
   "execution_count": 10,
   "id": "a53f89b9",
   "metadata": {},
   "outputs": [
    {
     "data": {
      "text/plain": [
       "[<matplotlib.lines.Line2D at 0x17e696071a0>]"
      ]
     },
     "execution_count": 10,
     "metadata": {},
     "output_type": "execute_result"
    },
    {
     "data": {
      "image/png": "[encoded data removed]",
      "text/plain": [
       "<Figure size 640x480 with 1 Axes>"
      ]
     },
     "metadata": {},
     "output_type": "display_data"
    }
   ],
   "source": [
    "plt.plot(df.Close)"
   ]
  },
  {
   "cell_type": "code",
   "execution_count": 11,
   "id": "290ef4d6",
   "metadata": {},
   "outputs": [
    {
     "data": {
      "text/html": [
       "<div>\n",
       "<style scoped>\n",
       "    .dataframe tbody tr th:only-of-type {\n",
       "        vertical-align: middle;\n",
       "    }\n",
       "\n",
       "    .dataframe tbody tr th {\n",
       "        vertical-align: top;\n",
       "    }\n",
       "\n",
       "    .dataframe thead th {\n",
       "        text-align: right;\n",
       "    }\n",
       "</style>\n",
       "<table border=\"1\" class=\"dataframe\">\n",
       "  <thead>\n",
       "    <tr style=\"text-align: right;\">\n",
       "      <th>Price</th>\n",
       "      <th>Close</th>\n",
       "      <th>High</th>\n",
       "      <th>Low</th>\n",
       "      <th>Open</th>\n",
       "    </tr>\n",
       "  </thead>\n",
       "  <tbody>\n",
       "    <tr>\n",
       "      <th>0</th>\n",
       "      <td>12.359181</td>\n",
       "      <td>12.397351</td>\n",
       "      <td>12.292161</td>\n",
       "      <td>12.304183</td>\n",
       "    </tr>\n",
       "    <tr>\n",
       "      <th>1</th>\n",
       "      <td>12.425602</td>\n",
       "      <td>12.462870</td>\n",
       "      <td>12.300577</td>\n",
       "      <td>12.322216</td>\n",
       "    </tr>\n",
       "    <tr>\n",
       "      <th>2</th>\n",
       "      <td>12.563554</td>\n",
       "      <td>12.579182</td>\n",
       "      <td>12.402463</td>\n",
       "      <td>12.470987</td>\n",
       "    </tr>\n",
       "    <tr>\n",
       "      <th>3</th>\n",
       "      <td>12.694889</td>\n",
       "      <td>12.705408</td>\n",
       "      <td>12.599317</td>\n",
       "      <td>12.615847</td>\n",
       "    </tr>\n",
       "    <tr>\n",
       "      <th>4</th>\n",
       "      <td>12.674754</td>\n",
       "      <td>12.855681</td>\n",
       "      <td>12.663333</td>\n",
       "      <td>12.788059</td>\n",
       "    </tr>\n",
       "    <tr>\n",
       "      <th>...</th>\n",
       "      <td>...</td>\n",
       "      <td>...</td>\n",
       "      <td>...</td>\n",
       "      <td>...</td>\n",
       "    </tr>\n",
       "    <tr>\n",
       "      <th>2763</th>\n",
       "      <td>130.173798</td>\n",
       "      <td>130.726634</td>\n",
       "      <td>127.982185</td>\n",
       "      <td>129.245816</td>\n",
       "    </tr>\n",
       "    <tr>\n",
       "      <th>2764</th>\n",
       "      <td>128.367188</td>\n",
       "      <td>129.729545</td>\n",
       "      <td>127.073942</td>\n",
       "      <td>129.699930</td>\n",
       "    </tr>\n",
       "    <tr>\n",
       "      <th>2765</th>\n",
       "      <td>124.428215</td>\n",
       "      <td>129.354401</td>\n",
       "      <td>124.260391</td>\n",
       "      <td>128.011792</td>\n",
       "    </tr>\n",
       "    <tr>\n",
       "      <th>2766</th>\n",
       "      <td>127.952568</td>\n",
       "      <td>128.811438</td>\n",
       "      <td>126.096612</td>\n",
       "      <td>126.353282</td>\n",
       "    </tr>\n",
       "    <tr>\n",
       "      <th>2767</th>\n",
       "      <td>128.268463</td>\n",
       "      <td>128.288212</td>\n",
       "      <td>125.800440</td>\n",
       "      <td>126.767912</td>\n",
       "    </tr>\n",
       "  </tbody>\n",
       "</table>\n",
       "<p>2768 rows × 4 columns</p>\n",
       "</div>"
      ],
      "text/plain": [
       "Price       Close        High         Low        Open\n",
       "0       12.359181   12.397351   12.292161   12.304183\n",
       "1       12.425602   12.462870   12.300577   12.322216\n",
       "2       12.563554   12.579182   12.402463   12.470987\n",
       "3       12.694889   12.705408   12.599317   12.615847\n",
       "4       12.674754   12.855681   12.663333   12.788059\n",
       "...           ...         ...         ...         ...\n",
       "2763   130.173798  130.726634  127.982185  129.245816\n",
       "2764   128.367188  129.729545  127.073942  129.699930\n",
       "2765   124.428215  129.354401  124.260391  128.011792\n",
       "2766   127.952568  128.811438  126.096612  126.353282\n",
       "2767   128.268463  128.288212  125.800440  126.767912\n",
       "\n",
       "[2768 rows x 4 columns]"
      ]
     },
     "execution_count": 11,
     "metadata": {},
     "output_type": "execute_result"
    }
   ],
   "source": [
    "df"
   ]
  },
  {
   "cell_type": "code",
   "execution_count": 12,
   "id": "c4cf8ef8",
   "metadata": {},
   "outputs": [
    {
     "data": {
      "text/plain": [
       "0              NaN\n",
       "1              NaN\n",
       "2              NaN\n",
       "3              NaN\n",
       "4              NaN\n",
       "           ...    \n",
       "2763    148.424347\n",
       "2764    148.076100\n",
       "2765    147.690730\n",
       "2766    147.345335\n",
       "2767    147.002606\n",
       "Name: Close, Length: 2768, dtype: float64"
      ]
     },
     "execution_count": 12,
     "metadata": {},
     "output_type": "execute_result"
    }
   ],
   "source": [
    "ma100 = df.Close.rolling(100).mean()\n",
    "ma100"
   ]
  },
  {
   "cell_type": "code",
   "execution_count": 13,
   "id": "430c3b96",
   "metadata": {},
   "outputs": [
    {
     "data": {
      "text/plain": [
       "[<matplotlib.lines.Line2D at 0x17e696cf6b0>]"
      ]
     },
     "execution_count": 13,
     "metadata": {},
     "output_type": "execute_result"
    },
    {
     "data": {
      "image/png": "[encoded data removed]",
      "text/plain": [
       "<Figure size 1200x600 with 1 Axes>"
      ]
     },
     "metadata": {},
     "output_type": "display_data"
    }
   ],
   "source": [
    "plt.figure(figsize = (12,6))\n",
    "plt.plot(df.Close)\n",
    "plt.plot(ma100,'r')"
   ]
  },
  {
   "cell_type": "code",
   "execution_count": 14,
   "id": "8ebff907",
   "metadata": {},
   "outputs": [
    {
     "data": {
      "text/plain": [
       "0              NaN\n",
       "1              NaN\n",
       "2              NaN\n",
       "3              NaN\n",
       "4              NaN\n",
       "           ...    \n",
       "2763    149.826821\n",
       "2764    149.708340\n",
       "2765    149.590360\n",
       "2766    149.468037\n",
       "2767    149.325181\n",
       "Name: Close, Length: 2768, dtype: float64"
      ]
     },
     "execution_count": 14,
     "metadata": {},
     "output_type": "execute_result"
    }
   ],
   "source": [
    "ma200 = df.Close.rolling(200).mean()\n",
    "ma200"
   ]
  },
  {
   "cell_type": "code",
   "execution_count": 15,
   "id": "d9e38205",
   "metadata": {},
   "outputs": [
    {
     "data": {
      "text/plain": [
       "[<matplotlib.lines.Line2D at 0x17e69784bf0>]"
      ]
     },
     "execution_count": 15,
     "metadata": {},
     "output_type": "execute_result"
    },
    {
     "data": {
      "image/png": "[encoded data removed]",
      "text/plain": [
       "<Figure size 1200x600 with 1 Axes>"
      ]
     },
     "metadata": {},
     "output_type": "display_data"
    }
   ],
   "source": [
    "plt.figure(figsize = (12,6))\n",
    "plt.plot(df.Close)\n",
    "plt.plot(ma100,'r')\n",
    "plt.plot(ma200,'g')"
   ]
  },
  {
   "cell_type": "code",
   "execution_count": 16,
   "id": "70568771",
   "metadata": {},
   "outputs": [
    {
     "data": {
      "text/plain": [
       "(2768, 4)"
      ]
     },
     "execution_count": 16,
     "metadata": {},
     "output_type": "execute_result"
    }
   ],
   "source": [
    "df.shape"
   ]
  },
  {
   "cell_type": "markdown",
   "id": "cc9737f0",
   "metadata": {},
   "source": [
    "# splitting Data into Training and Testing"
   ]
  },
  {
   "cell_type": "code",
   "execution_count": 17,
   "id": "89889369",
   "metadata": {},
   "outputs": [
    {
     "name": "stdout",
     "output_type": "stream",
     "text": [
      "(1937, 1) (831, 1)\n"
     ]
    }
   ],
   "source": [
    "data_training = pd.DataFrame(df['Close'][0:int(len(df)*0.70)])\n",
    "data_testing = pd.DataFrame(df['Close'][int(len(df)*0.70) : int(len(df))])\n",
    "print(data_training.shape,data_testing.shape)"
   ]
  },
  {
   "cell_type": "code",
   "execution_count": 18,
   "id": "1170f59d",
   "metadata": {},
   "outputs": [
    {
     "data": {
      "text/html": [
       "<div>\n",
       "<style scoped>\n",
       "    .dataframe tbody tr th:only-of-type {\n",
       "        vertical-align: middle;\n",
       "    }\n",
       "\n",
       "    .dataframe tbody tr th {\n",
       "        vertical-align: top;\n",
       "    }\n",
       "\n",
       "    .dataframe thead th {\n",
       "        text-align: right;\n",
       "    }\n",
       "</style>\n",
       "<table border=\"1\" class=\"dataframe\">\n",
       "  <thead>\n",
       "    <tr style=\"text-align: right;\">\n",
       "      <th></th>\n",
       "      <th>Close</th>\n",
       "    </tr>\n",
       "  </thead>\n",
       "  <tbody>\n",
       "    <tr>\n",
       "      <th>0</th>\n",
       "      <td>12.359181</td>\n",
       "    </tr>\n",
       "    <tr>\n",
       "      <th>1</th>\n",
       "      <td>12.425602</td>\n",
       "    </tr>\n",
       "    <tr>\n",
       "      <th>2</th>\n",
       "      <td>12.563554</td>\n",
       "    </tr>\n",
       "    <tr>\n",
       "      <th>3</th>\n",
       "      <td>12.694889</td>\n",
       "    </tr>\n",
       "    <tr>\n",
       "      <th>4</th>\n",
       "      <td>12.674754</td>\n",
       "    </tr>\n",
       "  </tbody>\n",
       "</table>\n",
       "</div>"
      ],
      "text/plain": [
       "       Close\n",
       "0  12.359181\n",
       "1  12.425602\n",
       "2  12.563554\n",
       "3  12.694889\n",
       "4  12.674754"
      ]
     },
     "execution_count": 18,
     "metadata": {},
     "output_type": "execute_result"
    }
   ],
   "source": [
    "data_training.head()"
   ]
  },
  {
   "cell_type": "code",
   "execution_count": 19,
   "id": "006782ed",
   "metadata": {},
   "outputs": [
    {
     "data": {
      "text/html": [
       "<div>\n",
       "<style scoped>\n",
       "    .dataframe tbody tr th:only-of-type {\n",
       "        vertical-align: middle;\n",
       "    }\n",
       "\n",
       "    .dataframe tbody tr th {\n",
       "        vertical-align: top;\n",
       "    }\n",
       "\n",
       "    .dataframe thead th {\n",
       "        text-align: right;\n",
       "    }\n",
       "</style>\n",
       "<table border=\"1\" class=\"dataframe\">\n",
       "  <thead>\n",
       "    <tr style=\"text-align: right;\">\n",
       "      <th></th>\n",
       "      <th>Close</th>\n",
       "    </tr>\n",
       "  </thead>\n",
       "  <tbody>\n",
       "    <tr>\n",
       "      <th>1937</th>\n",
       "      <td>53.009892</td>\n",
       "    </tr>\n",
       "    <tr>\n",
       "      <th>1938</th>\n",
       "      <td>53.202740</td>\n",
       "    </tr>\n",
       "    <tr>\n",
       "      <th>1939</th>\n",
       "      <td>53.701740</td>\n",
       "    </tr>\n",
       "    <tr>\n",
       "      <th>1940</th>\n",
       "      <td>53.265415</td>\n",
       "    </tr>\n",
       "    <tr>\n",
       "      <th>1941</th>\n",
       "      <td>52.486786</td>\n",
       "    </tr>\n",
       "  </tbody>\n",
       "</table>\n",
       "</div>"
      ],
      "text/plain": [
       "          Close\n",
       "1937  53.009892\n",
       "1938  53.202740\n",
       "1939  53.701740\n",
       "1940  53.265415\n",
       "1941  52.486786"
      ]
     },
     "execution_count": 19,
     "metadata": {},
     "output_type": "execute_result"
    }
   ],
   "source": [
    "data_testing.head()"
   ]
  },
  {
   "cell_type": "code",
   "execution_count": 20,
   "id": "63ce65e3",
   "metadata": {},
   "outputs": [],
   "source": [
    "from sklearn.preprocessing import MinMaxScaler\n",
    "scalar = MinMaxScaler(feature_range=(0,1))"
   ]
  },
  {
   "cell_type": "code",
   "execution_count": 21,
   "id": "2002d5c4",
   "metadata": {},
   "outputs": [
    {
     "data": {
      "text/plain": [
       "array([[0.01039586],\n",
       "       [0.01193414],\n",
       "       [0.01512906],\n",
       "       ...,\n",
       "       [0.97245432],\n",
       "       [0.96966326],\n",
       "       [0.94543298]])"
      ]
     },
     "execution_count": 21,
     "metadata": {},
     "output_type": "execute_result"
    }
   ],
   "source": [
    "data_training_array = scalar.fit_transform(data_training)\n",
    "data_training_array"
   ]
  },
  {
   "cell_type": "code",
   "execution_count": 22,
   "id": "bd7ef4fa",
   "metadata": {},
   "outputs": [],
   "source": [
    "x_train = [] #first 100 days will be this\n",
    "y_train = [] #101 day will be this\n",
    "\n",
    "for i in range(100,data_training_array.shape[0]):\n",
    "    x_train.append(data_training_array[i-100:i])\n",
    "    y_train.append(data_training_array[i,0])"
   ]
  },
  {
   "cell_type": "code",
   "execution_count": 23,
   "id": "60e74a3f",
   "metadata": {},
   "outputs": [],
   "source": [
    "x_train = np.array(x_train)"
   ]
  },
  {
   "cell_type": "code",
   "execution_count": 24,
   "id": "1dc8b425",
   "metadata": {},
   "outputs": [
    {
     "data": {
      "text/plain": [
       "array([0.11554055, 0.1224869 , 0.1272898 , ..., 0.97245432, 0.96966326,\n",
       "       0.94543298])"
      ]
     },
     "execution_count": 24,
     "metadata": {},
     "output_type": "execute_result"
    }
   ],
   "source": [
    "y_train = np.array(y_train)\n",
    "y_train"
   ]
  },
  {
   "cell_type": "code",
   "execution_count": 25,
   "id": "3551e748",
   "metadata": {},
   "outputs": [
    {
     "data": {
      "text/plain": [
       "(1837, 100, 1)"
      ]
     },
     "execution_count": 25,
     "metadata": {},
     "output_type": "execute_result"
    }
   ],
   "source": [
    "x_train.shape"
   ]
  },
  {
   "cell_type": "markdown",
   "id": "08daf4d2",
   "metadata": {},
   "source": [
    "# ML Model"
   ]
  },
  {
   "cell_type": "code",
   "execution_count": 26,
   "id": "a46ba575",
   "metadata": {},
   "outputs": [],
   "source": [
    "from keras.layers import Dense, Dropout , LSTM\n",
    "from keras.models import Sequential"
   ]
  },
  {
   "cell_type": "code",
   "execution_count": 27,
   "id": "6ea06516",
   "metadata": {},
   "outputs": [
    {
     "name": "stderr",
     "output_type": "stream",
     "text": [
      "c:\\Users\\Asus\\AppData\\Local\\Programs\\Python\\Python312\\Lib\\site-packages\\keras\\src\\layers\\rnn\\rnn.py:204: UserWarning: Do not pass an `input_shape`/`input_dim` argument to a layer. When using Sequential models, prefer using an `Input(shape)` object as the first layer in the model instead.\n",
      "  super().__init__(**kwargs)\n"
     ]
    }
   ],
   "source": [
    "model = Sequential()\n",
    "model.add(LSTM(units = 50 , activation = 'relu' , return_sequences = True ,\n",
    "               input_shape = (x_train.shape[1],1)))\n",
    "model.add(Dropout(0.2))\n",
    "\n",
    "model.add(LSTM(units = 60 , activation = 'relu' , return_sequences = True ))\n",
    "model.add(Dropout(0.3))\n",
    "\n",
    "model.add(LSTM(units = 80 , activation = 'relu' , return_sequences = True ))\n",
    "model.add(Dropout(0.4))\n",
    "\n",
    "model.add(LSTM(units = 120 , activation = 'relu' ))\n",
    "model.add(Dropout(0.5))\n",
    "\n",
    "\n",
    "model.add(Dense(units = 1))"
   ]
  },
  {
   "cell_type": "code",
   "execution_count": 28,
   "id": "d5a9bbdc",
   "metadata": {},
   "outputs": [
    {
     "data": {
      "text/html": [
       "<pre style=\"white-space:pre;overflow-x:auto;line-height:normal;font-family:Menlo,'DejaVu Sans Mono',consolas,'Courier New',monospace\"><span style=\"font-weight: bold\">Model: \"sequential\"</span>\n",
       "</pre>\n"
      ],
      "text/plain": [
       "\u001b[1mModel: \"sequential\"\u001b[0m\n"
      ]
     },
     "metadata": {},
     "output_type": "display_data"
    },
    {
     "data": {
      "text/html": [
       "<pre style=\"white-space:pre;overflow-x:auto;line-height:normal;font-family:Menlo,'DejaVu Sans Mono',consolas,'Courier New',monospace\">┏━━━━━━━━━━━━━━━━━━━━━━━━━━━━━━━━━┳━━━━━━━━━━━━━━━━━━━━━━━━┳━━━━━━━━━━━━━━━┓\n",
       "┃<span style=\"font-weight: bold\"> Layer (type)                    </span>┃<span style=\"font-weight: bold\"> Output Shape           </span>┃<span style=\"font-weight: bold\">       Param # </span>┃\n",
       "┡━━━━━━━━━━━━━━━━━━━━━━━━━━━━━━━━━╇━━━━━━━━━━━━━━━━━━━━━━━━╇━━━━━━━━━━━━━━━┩\n",
       "│ lstm (<span style=\"color: #0087ff; text-decoration-color: #0087ff\">LSTM</span>)                     │ (<span style=\"color: #00d7ff; text-decoration-color: #00d7ff\">None</span>, <span style=\"color: #00af00; text-decoration-color: #00af00\">100</span>, <span style=\"color: #00af00; text-decoration-color: #00af00\">50</span>)        │        <span style=\"color: #00af00; text-decoration-color: #00af00\">10,400</span> │\n",
       "├─────────────────────────────────┼────────────────────────┼───────────────┤\n",
       "│ dropout (<span style=\"color: #0087ff; text-decoration-color: #0087ff\">Dropout</span>)               │ (<span style=\"color: #00d7ff; text-decoration-color: #00d7ff\">None</span>, <span style=\"color: #00af00; text-decoration-color: #00af00\">100</span>, <span style=\"color: #00af00; text-decoration-color: #00af00\">50</span>)        │             <span style=\"color: #00af00; text-decoration-color: #00af00\">0</span> │\n",
       "├─────────────────────────────────┼────────────────────────┼───────────────┤\n",
       "│ lstm_1 (<span style=\"color: #0087ff; text-decoration-color: #0087ff\">LSTM</span>)                   │ (<span style=\"color: #00d7ff; text-decoration-color: #00d7ff\">None</span>, <span style=\"color: #00af00; text-decoration-color: #00af00\">100</span>, <span style=\"color: #00af00; text-decoration-color: #00af00\">60</span>)        │        <span style=\"color: #00af00; text-decoration-color: #00af00\">26,640</span> │\n",
       "├─────────────────────────────────┼────────────────────────┼───────────────┤\n",
       "│ dropout_1 (<span style=\"color: #0087ff; text-decoration-color: #0087ff\">Dropout</span>)             │ (<span style=\"color: #00d7ff; text-decoration-color: #00d7ff\">None</span>, <span style=\"color: #00af00; text-decoration-color: #00af00\">100</span>, <span style=\"color: #00af00; text-decoration-color: #00af00\">60</span>)        │             <span style=\"color: #00af00; text-decoration-color: #00af00\">0</span> │\n",
       "├─────────────────────────────────┼────────────────────────┼───────────────┤\n",
       "│ lstm_2 (<span style=\"color: #0087ff; text-decoration-color: #0087ff\">LSTM</span>)                   │ (<span style=\"color: #00d7ff; text-decoration-color: #00d7ff\">None</span>, <span style=\"color: #00af00; text-decoration-color: #00af00\">100</span>, <span style=\"color: #00af00; text-decoration-color: #00af00\">80</span>)        │        <span style=\"color: #00af00; text-decoration-color: #00af00\">45,120</span> │\n",
       "├─────────────────────────────────┼────────────────────────┼───────────────┤\n",
       "│ dropout_2 (<span style=\"color: #0087ff; text-decoration-color: #0087ff\">Dropout</span>)             │ (<span style=\"color: #00d7ff; text-decoration-color: #00d7ff\">None</span>, <span style=\"color: #00af00; text-decoration-color: #00af00\">100</span>, <span style=\"color: #00af00; text-decoration-color: #00af00\">80</span>)        │             <span style=\"color: #00af00; text-decoration-color: #00af00\">0</span> │\n",
       "├─────────────────────────────────┼────────────────────────┼───────────────┤\n",
       "│ lstm_3 (<span style=\"color: #0087ff; text-decoration-color: #0087ff\">LSTM</span>)                   │ (<span style=\"color: #00d7ff; text-decoration-color: #00d7ff\">None</span>, <span style=\"color: #00af00; text-decoration-color: #00af00\">120</span>)            │        <span style=\"color: #00af00; text-decoration-color: #00af00\">96,480</span> │\n",
       "├─────────────────────────────────┼────────────────────────┼───────────────┤\n",
       "│ dropout_3 (<span style=\"color: #0087ff; text-decoration-color: #0087ff\">Dropout</span>)             │ (<span style=\"color: #00d7ff; text-decoration-color: #00d7ff\">None</span>, <span style=\"color: #00af00; text-decoration-color: #00af00\">120</span>)            │             <span style=\"color: #00af00; text-decoration-color: #00af00\">0</span> │\n",
       "├─────────────────────────────────┼────────────────────────┼───────────────┤\n",
       "│ dense (<span style=\"color: #0087ff; text-decoration-color: #0087ff\">Dense</span>)                   │ (<span style=\"color: #00d7ff; text-decoration-color: #00d7ff\">None</span>, <span style=\"color: #00af00; text-decoration-color: #00af00\">1</span>)              │           <span style=\"color: #00af00; text-decoration-color: #00af00\">121</span> │\n",
       "└─────────────────────────────────┴────────────────────────┴───────────────┘\n",
       "</pre>\n"
      ],
      "text/plain": [
       "┏━━━━━━━━━━━━━━━━━━━━━━━━━━━━━━━━━┳━━━━━━━━━━━━━━━━━━━━━━━━┳━━━━━━━━━━━━━━━┓\n",
       "┃\u001b[1m \u001b[0m\u001b[1mLayer (type)                   \u001b[0m\u001b[1m \u001b[0m┃\u001b[1m \u001b[0m\u001b[1mOutput Shape          \u001b[0m\u001b[1m \u001b[0m┃\u001b[1m \u001b[0m\u001b[1m      Param #\u001b[0m\u001b[1m \u001b[0m┃\n",
       "┡━━━━━━━━━━━━━━━━━━━━━━━━━━━━━━━━━╇━━━━━━━━━━━━━━━━━━━━━━━━╇━━━━━━━━━━━━━━━┩\n",
       "│ lstm (\u001b[38;5;33mLSTM\u001b[0m)                     │ (\u001b[38;5;45mNone\u001b[0m, \u001b[38;5;34m100\u001b[0m, \u001b[38;5;34m50\u001b[0m)        │        \u001b[38;5;34m10,400\u001b[0m │\n",
       "├─────────────────────────────────┼────────────────────────┼───────────────┤\n",
       "│ dropout (\u001b[38;5;33mDropout\u001b[0m)               │ (\u001b[38;5;45mNone\u001b[0m, \u001b[38;5;34m100\u001b[0m, \u001b[38;5;34m50\u001b[0m)        │             \u001b[38;5;34m0\u001b[0m │\n",
       "├─────────────────────────────────┼────────────────────────┼───────────────┤\n",
       "│ lstm_1 (\u001b[38;5;33mLSTM\u001b[0m)                   │ (\u001b[38;5;45mNone\u001b[0m, \u001b[38;5;34m100\u001b[0m, \u001b[38;5;34m60\u001b[0m)        │        \u001b[38;5;34m26,640\u001b[0m │\n",
       "├─────────────────────────────────┼────────────────────────┼───────────────┤\n",
       "│ dropout_1 (\u001b[38;5;33mDropout\u001b[0m)             │ (\u001b[38;5;45mNone\u001b[0m, \u001b[38;5;34m100\u001b[0m, \u001b[38;5;34m60\u001b[0m)        │             \u001b[38;5;34m0\u001b[0m │\n",
       "├─────────────────────────────────┼────────────────────────┼───────────────┤\n",
       "│ lstm_2 (\u001b[38;5;33mLSTM\u001b[0m)                   │ (\u001b[38;5;45mNone\u001b[0m, \u001b[38;5;34m100\u001b[0m, \u001b[38;5;34m80\u001b[0m)        │        \u001b[38;5;34m45,120\u001b[0m │\n",
       "├─────────────────────────────────┼────────────────────────┼───────────────┤\n",
       "│ dropout_2 (\u001b[38;5;33mDropout\u001b[0m)             │ (\u001b[38;5;45mNone\u001b[0m, \u001b[38;5;34m100\u001b[0m, \u001b[38;5;34m80\u001b[0m)        │             \u001b[38;5;34m0\u001b[0m │\n",
       "├─────────────────────────────────┼────────────────────────┼───────────────┤\n",
       "│ lstm_3 (\u001b[38;5;33mLSTM\u001b[0m)                   │ (\u001b[38;5;45mNone\u001b[0m, \u001b[38;5;34m120\u001b[0m)            │        \u001b[38;5;34m96,480\u001b[0m │\n",
       "├─────────────────────────────────┼────────────────────────┼───────────────┤\n",
       "│ dropout_3 (\u001b[38;5;33mDropout\u001b[0m)             │ (\u001b[38;5;45mNone\u001b[0m, \u001b[38;5;34m120\u001b[0m)            │             \u001b[38;5;34m0\u001b[0m │\n",
       "├─────────────────────────────────┼────────────────────────┼───────────────┤\n",
       "│ dense (\u001b[38;5;33mDense\u001b[0m)                   │ (\u001b[38;5;45mNone\u001b[0m, \u001b[38;5;34m1\u001b[0m)              │           \u001b[38;5;34m121\u001b[0m │\n",
       "└─────────────────────────────────┴────────────────────────┴───────────────┘\n"
      ]
     },
     "metadata": {},
     "output_type": "display_data"
    },
    {
     "data": {
      "text/html": [
       "<pre style=\"white-space:pre;overflow-x:auto;line-height:normal;font-family:Menlo,'DejaVu Sans Mono',consolas,'Courier New',monospace\"><span style=\"font-weight: bold\"> Total params: </span><span style=\"color: #00af00; text-decoration-color: #00af00\">178,761</span> (698.29 KB)\n",
       "</pre>\n"
      ],
      "text/plain": [
       "\u001b[1m Total params: \u001b[0m\u001b[38;5;34m178,761\u001b[0m (698.29 KB)\n"
      ]
     },
     "metadata": {},
     "output_type": "display_data"
    },
    {
     "data": {
      "text/html": [
       "<pre style=\"white-space:pre;overflow-x:auto;line-height:normal;font-family:Menlo,'DejaVu Sans Mono',consolas,'Courier New',monospace\"><span style=\"font-weight: bold\"> Trainable params: </span><span style=\"color: #00af00; text-decoration-color: #00af00\">178,761</span> (698.29 KB)\n",
       "</pre>\n"
      ],
      "text/plain": [
       "\u001b[1m Trainable params: \u001b[0m\u001b[38;5;34m178,761\u001b[0m (698.29 KB)\n"
      ]
     },
     "metadata": {},
     "output_type": "display_data"
    },
    {
     "data": {
      "text/html": [
       "<pre style=\"white-space:pre;overflow-x:auto;line-height:normal;font-family:Menlo,'DejaVu Sans Mono',consolas,'Courier New',monospace\"><span style=\"font-weight: bold\"> Non-trainable params: </span><span style=\"color: #00af00; text-decoration-color: #00af00\">0</span> (0.00 B)\n",
       "</pre>\n"
      ],
      "text/plain": [
       "\u001b[1m Non-trainable params: \u001b[0m\u001b[38;5;34m0\u001b[0m (0.00 B)\n"
      ]
     },
     "metadata": {},
     "output_type": "display_data"
    }
   ],
   "source": [
    "model.summary()"
   ]
  },
  {
   "cell_type": "code",
   "execution_count": 29,
   "id": "dd1e468a",
   "metadata": {},
   "outputs": [
    {
     "name": "stdout",
     "output_type": "stream",
     "text": [
      "Epoch 1/10\n",
      "\u001b[1m58/58\u001b[0m \u001b[32m━━━━━━━━━━━━━━━━━━━━\u001b[0m\u001b[37m\u001b[0m \u001b[1m26s\u001b[0m 239ms/step - loss: 0.0771\n",
      "Epoch 2/10\n",
      "\u001b[1m58/58\u001b[0m \u001b[32m━━━━━━━━━━━━━━━━━━━━\u001b[0m\u001b[37m\u001b[0m \u001b[1m14s\u001b[0m 244ms/step - loss: 0.0096\n",
      "Epoch 3/10\n",
      "\u001b[1m58/58\u001b[0m \u001b[32m━━━━━━━━━━━━━━━━━━━━\u001b[0m\u001b[37m\u001b[0m \u001b[1m14s\u001b[0m 235ms/step - loss: 0.0088\n",
      "Epoch 4/10\n",
      "\u001b[1m58/58\u001b[0m \u001b[32m━━━━━━━━━━━━━━━━━━━━\u001b[0m\u001b[37m\u001b[0m \u001b[1m14s\u001b[0m 246ms/step - loss: 0.0072\n",
      "Epoch 5/10\n",
      "\u001b[1m58/58\u001b[0m \u001b[32m━━━━━━━━━━━━━━━━━━━━\u001b[0m\u001b[37m\u001b[0m \u001b[1m14s\u001b[0m 239ms/step - loss: 0.0064\n",
      "Epoch 6/10\n",
      "\u001b[1m58/58\u001b[0m \u001b[32m━━━━━━━━━━━━━━━━━━━━\u001b[0m\u001b[37m\u001b[0m \u001b[1m14s\u001b[0m 245ms/step - loss: 0.0059\n",
      "Epoch 7/10\n",
      "\u001b[1m58/58\u001b[0m \u001b[32m━━━━━━━━━━━━━━━━━━━━\u001b[0m\u001b[37m\u001b[0m \u001b[1m16s\u001b[0m 281ms/step - loss: 0.0062\n",
      "Epoch 8/10\n",
      "\u001b[1m58/58\u001b[0m \u001b[32m━━━━━━━━━━━━━━━━━━━━\u001b[0m\u001b[37m\u001b[0m \u001b[1m15s\u001b[0m 249ms/step - loss: 0.0048\n",
      "Epoch 9/10\n",
      "\u001b[1m58/58\u001b[0m \u001b[32m━━━━━━━━━━━━━━━━━━━━\u001b[0m\u001b[37m\u001b[0m \u001b[1m15s\u001b[0m 250ms/step - loss: 0.0056\n",
      "Epoch 10/10\n",
      "\u001b[1m58/58\u001b[0m \u001b[32m━━━━━━━━━━━━━━━━━━━━\u001b[0m\u001b[37m\u001b[0m \u001b[1m14s\u001b[0m 247ms/step - loss: 0.0051\n"
     ]
    },
    {
     "data": {
      "text/plain": [
       "<keras.src.callbacks.history.History at 0x17e0562dc70>"
      ]
     },
     "execution_count": 29,
     "metadata": {},
     "output_type": "execute_result"
    }
   ],
   "source": [
    "model.compile(optimizer='adam' , loss = 'mean_squared_error')\n",
    "model.fit(x_train,y_train,epochs = 10)"
   ]
  },
  {
   "cell_type": "code",
   "execution_count": 30,
   "id": "6871f2bf",
   "metadata": {},
   "outputs": [
    {
     "name": "stderr",
     "output_type": "stream",
     "text": [
      "WARNING:absl:You are saving your model as an HDF5 file via `model.save()` or `keras.saving.save_model(model)`. This file format is considered legacy. We recommend using instead the native Keras format, e.g. `model.save('my_model.keras')` or `keras.saving.save_model(model, 'my_model.keras')`. \n"
     ]
    }
   ],
   "source": [
    "model.save('keras_model.h5')"
   ]
  },
  {
   "cell_type": "code",
   "execution_count": 31,
   "id": "b8bc0cda",
   "metadata": {},
   "outputs": [
    {
     "data": {
      "text/html": [
       "<div>\n",
       "<style scoped>\n",
       "    .dataframe tbody tr th:only-of-type {\n",
       "        vertical-align: middle;\n",
       "    }\n",
       "\n",
       "    .dataframe tbody tr th {\n",
       "        vertical-align: top;\n",
       "    }\n",
       "\n",
       "    .dataframe thead th {\n",
       "        text-align: right;\n",
       "    }\n",
       "</style>\n",
       "<table border=\"1\" class=\"dataframe\">\n",
       "  <thead>\n",
       "    <tr style=\"text-align: right;\">\n",
       "      <th></th>\n",
       "      <th>Close</th>\n",
       "    </tr>\n",
       "  </thead>\n",
       "  <tbody>\n",
       "    <tr>\n",
       "      <th>1937</th>\n",
       "      <td>53.009892</td>\n",
       "    </tr>\n",
       "    <tr>\n",
       "      <th>1938</th>\n",
       "      <td>53.202740</td>\n",
       "    </tr>\n",
       "    <tr>\n",
       "      <th>1939</th>\n",
       "      <td>53.701740</td>\n",
       "    </tr>\n",
       "    <tr>\n",
       "      <th>1940</th>\n",
       "      <td>53.265415</td>\n",
       "    </tr>\n",
       "    <tr>\n",
       "      <th>1941</th>\n",
       "      <td>52.486786</td>\n",
       "    </tr>\n",
       "  </tbody>\n",
       "</table>\n",
       "</div>"
      ],
      "text/plain": [
       "          Close\n",
       "1937  53.009892\n",
       "1938  53.202740\n",
       "1939  53.701740\n",
       "1940  53.265415\n",
       "1941  52.486786"
      ]
     },
     "execution_count": 31,
     "metadata": {},
     "output_type": "execute_result"
    }
   ],
   "source": [
    "data_testing.head()"
   ]
  },
  {
   "cell_type": "code",
   "execution_count": 32,
   "id": "0d0dec4f",
   "metadata": {},
   "outputs": [
    {
     "data": {
      "text/html": [
       "<div>\n",
       "<style scoped>\n",
       "    .dataframe tbody tr th:only-of-type {\n",
       "        vertical-align: middle;\n",
       "    }\n",
       "\n",
       "    .dataframe tbody tr th {\n",
       "        vertical-align: top;\n",
       "    }\n",
       "\n",
       "    .dataframe thead th {\n",
       "        text-align: right;\n",
       "    }\n",
       "</style>\n",
       "<table border=\"1\" class=\"dataframe\">\n",
       "  <thead>\n",
       "    <tr style=\"text-align: right;\">\n",
       "      <th></th>\n",
       "      <th>Close</th>\n",
       "    </tr>\n",
       "  </thead>\n",
       "  <tbody>\n",
       "    <tr>\n",
       "      <th>1837</th>\n",
       "      <td>49.558876</td>\n",
       "    </tr>\n",
       "    <tr>\n",
       "      <th>1838</th>\n",
       "      <td>49.109127</td>\n",
       "    </tr>\n",
       "    <tr>\n",
       "      <th>1839</th>\n",
       "      <td>48.874672</td>\n",
       "    </tr>\n",
       "    <tr>\n",
       "      <th>1840</th>\n",
       "      <td>48.948833</td>\n",
       "    </tr>\n",
       "    <tr>\n",
       "      <th>1841</th>\n",
       "      <td>48.006268</td>\n",
       "    </tr>\n",
       "    <tr>\n",
       "      <th>...</th>\n",
       "      <td>...</td>\n",
       "    </tr>\n",
       "    <tr>\n",
       "      <th>1932</th>\n",
       "      <td>51.628601</td>\n",
       "    </tr>\n",
       "    <tr>\n",
       "      <th>1933</th>\n",
       "      <td>52.238491</td>\n",
       "    </tr>\n",
       "    <tr>\n",
       "      <th>1934</th>\n",
       "      <td>53.899406</td>\n",
       "    </tr>\n",
       "    <tr>\n",
       "      <th>1935</th>\n",
       "      <td>53.778893</td>\n",
       "    </tr>\n",
       "    <tr>\n",
       "      <th>1936</th>\n",
       "      <td>52.732666</td>\n",
       "    </tr>\n",
       "  </tbody>\n",
       "</table>\n",
       "<p>100 rows × 1 columns</p>\n",
       "</div>"
      ],
      "text/plain": [
       "          Close\n",
       "1837  49.558876\n",
       "1838  49.109127\n",
       "1839  48.874672\n",
       "1840  48.948833\n",
       "1841  48.006268\n",
       "...         ...\n",
       "1932  51.628601\n",
       "1933  52.238491\n",
       "1934  53.899406\n",
       "1935  53.778893\n",
       "1936  52.732666\n",
       "\n",
       "[100 rows x 1 columns]"
      ]
     },
     "execution_count": 32,
     "metadata": {},
     "output_type": "execute_result"
    }
   ],
   "source": [
    "data_training.tail(100)"
   ]
  },
  {
   "cell_type": "code",
   "execution_count": 33,
   "id": "b1388e81",
   "metadata": {},
   "outputs": [],
   "source": [
    "past_100_days = data_training.tail(100)"
   ]
  },
  {
   "cell_type": "code",
   "execution_count": 34,
   "id": "a311c717",
   "metadata": {},
   "outputs": [],
   "source": [
    "import pandas as pd\n",
    "\n",
    "final_df = pd.concat([past_100_days, data_testing], ignore_index=True)\n"
   ]
  },
  {
   "cell_type": "code",
   "execution_count": 35,
   "id": "1cb3522e",
   "metadata": {},
   "outputs": [
    {
     "data": {
      "text/html": [
       "<div>\n",
       "<style scoped>\n",
       "    .dataframe tbody tr th:only-of-type {\n",
       "        vertical-align: middle;\n",
       "    }\n",
       "\n",
       "    .dataframe tbody tr th {\n",
       "        vertical-align: top;\n",
       "    }\n",
       "\n",
       "    .dataframe thead th {\n",
       "        text-align: right;\n",
       "    }\n",
       "</style>\n",
       "<table border=\"1\" class=\"dataframe\">\n",
       "  <thead>\n",
       "    <tr style=\"text-align: right;\">\n",
       "      <th></th>\n",
       "      <th>Close</th>\n",
       "    </tr>\n",
       "  </thead>\n",
       "  <tbody>\n",
       "    <tr>\n",
       "      <th>0</th>\n",
       "      <td>49.558876</td>\n",
       "    </tr>\n",
       "    <tr>\n",
       "      <th>1</th>\n",
       "      <td>49.109127</td>\n",
       "    </tr>\n",
       "    <tr>\n",
       "      <th>2</th>\n",
       "      <td>48.874672</td>\n",
       "    </tr>\n",
       "    <tr>\n",
       "      <th>3</th>\n",
       "      <td>48.948833</td>\n",
       "    </tr>\n",
       "    <tr>\n",
       "      <th>4</th>\n",
       "      <td>48.006268</td>\n",
       "    </tr>\n",
       "  </tbody>\n",
       "</table>\n",
       "</div>"
      ],
      "text/plain": [
       "       Close\n",
       "0  49.558876\n",
       "1  49.109127\n",
       "2  48.874672\n",
       "3  48.948833\n",
       "4  48.006268"
      ]
     },
     "execution_count": 35,
     "metadata": {},
     "output_type": "execute_result"
    }
   ],
   "source": [
    "final_df.head()"
   ]
  },
  {
   "cell_type": "code",
   "execution_count": 36,
   "id": "bb201da9",
   "metadata": {},
   "outputs": [],
   "source": [
    "input_data = scalar.fit_transform(final_df)"
   ]
  },
  {
   "cell_type": "code",
   "execution_count": 37,
   "id": "1e498d45",
   "metadata": {},
   "outputs": [
    {
     "data": {
      "text/plain": [
       "(931, 1)"
      ]
     },
     "execution_count": 37,
     "metadata": {},
     "output_type": "execute_result"
    }
   ],
   "source": [
    "input_data.shape"
   ]
  },
  {
   "cell_type": "code",
   "execution_count": 38,
   "id": "8ca5fc9d",
   "metadata": {},
   "outputs": [],
   "source": [
    "x_test = []\n",
    "y_test = []"
   ]
  },
  {
   "cell_type": "code",
   "execution_count": 39,
   "id": "3349c582",
   "metadata": {},
   "outputs": [],
   "source": [
    "for i in range(100,input_data.shape[0]):\n",
    "    x_test.append(input_data[i-100:i])\n",
    "    y_test.append(input_data[i,0])\n",
    "    "
   ]
  },
  {
   "cell_type": "code",
   "execution_count": 40,
   "id": "ae0e26ab",
   "metadata": {},
   "outputs": [
    {
     "name": "stdout",
     "output_type": "stream",
     "text": [
      "(831, 100, 1)\n",
      "(831,)\n"
     ]
    }
   ],
   "source": [
    "x_test , y_test = np.array(x_test) , np.array(y_test)\n",
    "print(x_test.shape)\n",
    "print(y_test.shape)"
   ]
  },
  {
   "cell_type": "markdown",
   "id": "67be8e0f",
   "metadata": {},
   "source": [
    "# making Prediction\n"
   ]
  },
  {
   "cell_type": "code",
   "execution_count": 41,
   "id": "4bed6de7",
   "metadata": {},
   "outputs": [
    {
     "name": "stdout",
     "output_type": "stream",
     "text": [
      "\u001b[1m26/26\u001b[0m \u001b[32m━━━━━━━━━━━━━━━━━━━━\u001b[0m\u001b[37m\u001b[0m \u001b[1m5s\u001b[0m 130ms/step\n"
     ]
    }
   ],
   "source": [
    "y_predicted = model.predict(x_test)"
   ]
  },
  {
   "cell_type": "code",
   "execution_count": 42,
   "id": "ca22b27b",
   "metadata": {},
   "outputs": [
    {
     "data": {
      "text/plain": [
       "array([0.08313444, 0.08454181, 0.08818342, 0.08499921, 0.07931692,\n",
       "       0.08105858, 0.07922889, 0.08512237, 0.08311682, 0.08123452,\n",
       "       0.09029456, 0.09138524, 0.08148081, 0.08475294, 0.09564262,\n",
       "       0.09573059, 0.091051  , 0.09567778, 0.10106105, 0.11182765,\n",
       "       0.11122947, 0.11026187, 0.10859059, 0.11019147, 0.1121795 ,\n",
       "       0.11939238, 0.11842475, 0.12408939, 0.1247931 , 0.13007089,\n",
       "       0.13441624, 0.12428298, 0.1242302 , 0.13390601, 0.14632627,\n",
       "       0.14928176, 0.14863083, 0.14882428, 0.15404729, 0.15530018,\n",
       "       0.158935  , 0.15851151, 0.16294041, 0.15971148, 0.16521674,\n",
       "       0.16758116, 0.16615196, 0.16068186, 0.15859984, 0.15819392,\n",
       "       0.16629299, 0.16262285, 0.16888686, 0.16784585, 0.16239343,\n",
       "       0.15408264, 0.15812338, 0.1648991 , 0.17395104, 0.16726351,\n",
       "       0.17001617, 0.17405688, 0.17527456, 0.18178558, 0.1900964 ,\n",
       "       0.19106698, 0.18988471, 0.19037869, 0.18935527, 0.19740156,\n",
       "       0.19787799, 0.2078298 , 0.20763576, 0.21067054, 0.21442902,\n",
       "       0.22625149, 0.22109912, 0.22528092, 0.22279306, 0.23126256,\n",
       "       0.24262619, 0.24386124, 0.25556005, 0.2480079 , 0.24564348,\n",
       "       0.25252516, 0.2586833 , 0.25487193, 0.25686581, 0.25956546,\n",
       "       0.25794217, 0.24142622, 0.25684816, 0.26858216, 0.26775295,\n",
       "       0.2424145 , 0.24091454, 0.25889499, 0.26348268, 0.27011731,\n",
       "       0.26231739, 0.26500569, 0.26157448, 0.27499892, 0.27087792,\n",
       "       0.27101923, 0.26049556, 0.26866712, 0.26279494, 0.24997172,\n",
       "       0.22367094, 0.20580725, 0.21389006, 0.18005484, 0.17977172,\n",
       "       0.22478533, 0.20800045, 0.23173627, 0.21436783, 0.20748744,\n",
       "       0.16705483, 0.20096088, 0.18343304, 0.13532415, 0.18792546,\n",
       "       0.1246766 , 0.14351337, 0.13256509, 0.12922216, 0.10173648,\n",
       "       0.09312286, 0.13293652, 0.13053107, 0.15338269, 0.13445755,\n",
       "       0.14696233, 0.14604256, 0.12237729, 0.12948747, 0.12326163,\n",
       "       0.16051062, 0.15513362, 0.16687783, 0.17027391, 0.17957723,\n",
       "       0.20398536, 0.19935151, 0.20334868, 0.19646845, 0.18608609,\n",
       "       0.17094599, 0.18461809, 0.18272548, 0.19676906, 0.19712278,\n",
       "       0.18900439, 0.20518816, 0.21592425, 0.20755826, 0.21479221,\n",
       "       0.22257458, 0.2280044 , 0.2335051 , 0.24629196, 0.25494659,\n",
       "       0.24856201, 0.24189375, 0.24524561, 0.24199998, 0.25485789,\n",
       "       0.2516303 , 0.26243092, 0.25820987, 0.26182782, 0.25799696,\n",
       "       0.26044445, 0.26069271, 0.26014289, 0.26707752, 0.26971982,\n",
       "       0.27287676, 0.2679109 , 0.28419145, 0.28766764, 0.3063425 ,\n",
       "       0.32203787, 0.29199487, 0.29713795, 0.30456894, 0.32068996,\n",
       "       0.31982117, 0.32006938, 0.3165046 , 0.33273209, 0.34631693,\n",
       "       0.33484261, 0.34331979, 0.323439  , 0.33789309, 0.34324897,\n",
       "       0.34202522, 0.34202522, 0.35929912, 0.35724165, 0.37263581,\n",
       "       0.37554425, 0.37673247, 0.37359335, 0.38480209, 0.3895371 ,\n",
       "       0.38100647, 0.37962332, 0.39402413, 0.38439403, 0.38632705,\n",
       "       0.35491844, 0.3532868 , 0.36885823, 0.35780929, 0.37048965,\n",
       "       0.37864796, 0.45008423, 0.46907835, 0.4742393 , 0.47705899,\n",
       "       0.50429978, 0.48592887, 0.49740636, 0.4735809 , 0.4994141 ,\n",
       "       0.51362749, 0.51289906, 0.51076699, 0.51755406, 0.51858427,\n",
       "       0.53683114, 0.58014685, 0.59071808, 0.58338051, 0.59544418,\n",
       "       0.58469512, 0.58325607, 0.61333521, 0.64986412, 0.63010733,\n",
       "       0.55534408, 0.55591278, 0.49806363, 0.53004417, 0.5028251 ,\n",
       "       0.49223611, 0.5161149 , 0.5173941 , 0.49316003, 0.48043892,\n",
       "       0.45556516, 0.47859108, 0.4908857 , 0.45755509, 0.46537259,\n",
       "       0.49422604, 0.51327216, 0.50708935, 0.51931287, 0.52627756,\n",
       "       0.49948515, 0.52421665, 0.50048   , 0.51412492, 0.51334315,\n",
       "       0.52755693, 0.58035999, 0.55690763, 0.55754726, 0.55413593,\n",
       "       0.54212549, 0.52052092, 0.53139441, 0.52684609, 0.51888649,\n",
       "       0.51384068, 0.51391184, 0.52492721, 0.48655056, 0.51583061,\n",
       "       0.46992086, 0.46928113, 0.48114964, 0.51320095, 0.54219665,\n",
       "       0.54123559, 0.52436364, 0.52187188, 0.54693066, 0.54493761,\n",
       "       0.54529356, 0.55269733, 0.54621904, 0.53653705, 0.5408797 ,\n",
       "       0.53162503, 0.5067795 , 0.51617671, 0.52229904, 0.52628569,\n",
       "       0.5437985 , 0.56992534, 0.5724883 , 0.57149156, 0.56657932,\n",
       "       0.57725789, 0.58174291, 0.56323353, 0.5736272 , 0.56771838,\n",
       "       0.56323353, 0.60665954, 0.60616117, 0.61249726, 0.59797429,\n",
       "       0.60915113, 0.63513543, 0.62858616, 0.6357764 , 0.66937822,\n",
       "       0.65642142, 0.64823477, 0.64090199, 0.61755175, 0.62894194,\n",
       "       0.5975473 , 0.62830131, 0.63634565, 0.61449058, 0.61320893,\n",
       "       0.62808773, 0.61399215, 0.60139141, 0.60630354, 0.63620356,\n",
       "       0.67065948, 0.68632155, 0.71372965, 0.71543829, 0.70760731,\n",
       "       0.67222569, 0.63570546, 0.65122467, 0.65727596, 0.64980099,\n",
       "       0.67436139, 0.6713314 , 0.67240086, 0.66598398, 0.66156338,\n",
       "       0.65971009, 0.66142085, 0.64587859, 0.62912384, 0.6210673 ,\n",
       "       0.62220775, 0.59461625, 0.593618  , 0.58998185, 0.55889661,\n",
       "       0.56082162, 0.60737823, 0.58834197, 0.56652532, 0.55276497,\n",
       "       0.56196218, 0.52588626, 0.55960946, 0.55169563, 0.5658123 ,\n",
       "       0.55918168, 0.58028543, 0.59155029, 0.58577533, 0.55561685,\n",
       "       0.55176689, 0.57600776, 0.5699475 , 0.55247974, 0.55604457,\n",
       "       0.560465  , 0.56174832, 0.55112532, 0.56716689, 0.57322715,\n",
       "       0.59390318, 0.59611348, 0.60816251, 0.62570149, 0.64452372,\n",
       "       0.63197583, 0.65471901, 0.6376082 , 0.65521833, 0.65279434,\n",
       "       0.65764243, 0.645308  , 0.64808844, 0.63696634, 0.65393473,\n",
       "       0.65678711, 0.65443405, 0.64865892, 0.64794591, 0.63354416,\n",
       "       0.64124419, 0.60780595, 0.60958842, 0.62128116, 0.62620893,\n",
       "       0.60221255, 0.59549941, 0.57307415, 0.58878611, 0.60649746,\n",
       "       0.59807028, 0.58792889, 0.58678633, 0.60549771, 0.59207116,\n",
       "       0.60399808, 0.60256956, 0.60221255, 0.59099986, 0.58621496,\n",
       "       0.58385812, 0.5894288 , 0.57857323, 0.59535654, 0.59542787,\n",
       "       0.60142699, 0.60421228, 0.59692761, 0.60578328, 0.62813695,\n",
       "       0.62213799, 0.62578021, 0.63749283, 0.62799436, 0.64113517,\n",
       "       0.65313364, 0.65113358, 0.64906247, 0.6469201 , 0.65884686,\n",
       "       0.66991662, 0.67441584, 0.67662993, 0.69584124, 0.71055334,\n",
       "       0.7287649 , 0.7192667 , 0.73262138, 0.72826492, 0.73640647,\n",
       "       0.7614741 , 0.75668914, 0.74176302, 0.7136242 , 0.74004858,\n",
       "       0.73469237, 0.74469123, 0.75726051, 0.76033136, 0.74447664,\n",
       "       0.73169289, 0.73640647, 0.73797759, 0.73554948, 0.74869035,\n",
       "       0.74576202, 0.74654786, 0.74154097, 0.74118352, 0.73767871,\n",
       "       0.73953835, 0.76121029, 0.76271237, 0.77716033, 0.77050872,\n",
       "       0.74311465, 0.74554644, 0.75620385, 0.7670754 , 0.76643154,\n",
       "       0.75741974, 0.75155464, 0.75913618, 0.79146543, 0.7822386 ,\n",
       "       0.78710262, 0.79525631, 0.7999053 , 0.81699986, 0.80569881,\n",
       "       0.79826013, 0.76178255, 0.76593133, 0.75570308, 0.76221183,\n",
       "       0.76049539, 0.74096894, 0.71865325, 0.72215783, 0.73946708,\n",
       "       0.74647637, 0.74712012, 0.73603376, 0.71128606, 0.71786641,\n",
       "       0.70835373, 0.71657902, 0.69147387, 0.70556427, 0.71192992,\n",
       "       0.72115641, 0.71836684, 0.7177232 , 0.708425  , 0.70413346,\n",
       "       0.72451813, 0.73224266, 0.74447341, 0.7602807 , 0.76385689,\n",
       "       0.76543034, 0.75977982, 0.75942226, 0.76428605, 0.76092433,\n",
       "       0.78753145, 0.76771904, 0.76171117, 0.76929283, 0.77980682,\n",
       "       0.77601604, 0.77988399, 0.77386721, 0.77651748, 0.75581667,\n",
       "       0.75545866, 0.77064391, 0.77071551, 0.77787836, 0.79571398,\n",
       "       0.82708746, 0.84628419, 0.84965081, 0.8524445 , 0.85624073,\n",
       "       0.81949501, 0.84406376, 0.88030794, 0.8765116 , 0.86927693,\n",
       "       0.85552438, 0.88045136, 0.92242591, 0.95036128, 0.94663677,\n",
       "       0.98166338, 0.955089  , 0.94498926, 0.98058902, 0.9301618 ,\n",
       "       0.9221395 , 0.91218308, 0.93539106, 0.95437265, 0.95895706,\n",
       "       0.98796679, 0.98051731, 0.98116217, 0.9727096 , 0.96819702,\n",
       "       1.        , 0.98345398, 0.94921521, 0.92829937, 0.92951738,\n",
       "       0.92966047, 0.95036128, 0.95358459, 0.92966047, 0.93596399,\n",
       "       0.91254131, 0.88696946, 0.87464951, 0.85960702, 0.85394836,\n",
       "       0.84076885, 0.84012422, 0.83675737, 0.91633754, 0.94821245,\n",
       "       0.94699489, 0.95580524, 0.93474609, 0.93266641, 0.92743068,\n",
       "       0.95016596, 0.96056548, 0.93072993, 0.90577121, 0.90749288,\n",
       "       0.93553516, 0.93381404, 0.90749288, 0.89616065, 0.87478815,\n",
       "       0.84430685, 0.86345625, 0.87858927, 0.88052542, 0.86675539,\n",
       "       0.89085355, 0.88848635, 0.86654025, 0.83878438, 0.82544419,\n",
       "       0.86496234, 0.83319009, 0.80600815, 0.77653106, 0.80858994,\n",
       "       0.84086406, 0.8482514 , 0.87234934, 0.8823904 , 0.90706227,\n",
       "       0.91703128, 0.94471555, 0.94937701, 0.95568865, 0.9797867 ,\n",
       "       0.97125195, 0.94858828, 0.94643688, 0.97605718, 0.95181559,\n",
       "       0.92864992, 0.93087347, 0.91617073, 0.88504379, 0.89874277,\n",
       "       0.91839417, 0.88174465, 0.88016696, 0.89687801, 0.89565855,\n",
       "       0.88984923, 0.85664262, 0.86446012, 0.82085433, 0.8192047 ,\n",
       "       0.8699111 , 0.82695027, 0.82917394, 0.84007522, 0.88698038,\n",
       "       0.82063908, 0.82595408, 0.78846138, 0.80605838, 0.74852598,\n",
       "       0.72022659, 0.7529075 , 0.74163072, 0.76820622, 0.7077288 ,\n",
       "       0.6828056 , 0.68452906, 0.72417705, 0.7044251 , 0.70557429,\n",
       "       0.72898929, 0.77107931, 0.76533324, 0.76439952, 0.78235597,\n",
       "       0.74048142, 0.74594053, 0.76439952, 0.7590128 , 0.72080141,\n",
       "       0.68122513, 0.64351685, 0.64983706, 0.66901475, 0.63044457,\n",
       "       0.64121824, 0.67217514, 0.66844038, 0.68941357, 0.71376239,\n",
       "       0.71376239, 0.68345202, 0.69630871, 0.67828033, 0.69415376,\n",
       "       0.71304392, 0.72281249, 0.74744873, 0.7524045 , 0.73681837,\n",
       "       0.74392922, 0.74127171, 0.76267562, 0.77488601, 0.75262009,\n",
       "       0.78084766, 0.79549996, 0.81209196, 0.80304164, 0.79485354,\n",
       "       0.78515724, 0.82243469, 0.82645719, 0.86351883, 0.85633639,\n",
       "       0.84556272, 0.88952007, 0.88722157, 0.88556749, 0.88211491,\n",
       "       0.88247436, 0.91354652, 0.908152  , 0.93411715, 0.94195682,\n",
       "       0.94080618, 0.95173875, 0.94886165, 0.92994532, 0.90153468,\n",
       "       0.8990892 , 0.90124705, 0.91922844, 0.87312427, 0.85701276,\n",
       "       0.8392474 , 0.82709192, 0.83241428, 0.81695042, 0.80774375,\n",
       "       0.81802923, 0.80724042, 0.82817062, 0.8717576 , 0.80278095,\n",
       "       0.81335418, 0.79220795, 0.78019656, 0.80738418, 0.82479031,\n",
       "       0.80191784, 0.79486913, 0.77825429, 0.78070011, 0.78782031,\n",
       "       0.77401086, 0.72107356, 0.69028938, 0.72085776, 0.74711076,\n",
       "       0.74926817, 0.74229151, 0.70388324, 0.70625701, 0.6958997 ,\n",
       "       0.69129637, 0.72474196, 0.69158389, 0.72057001, 0.73020785,\n",
       "       0.73099926, 0.72761861, 0.75552603, 0.7712057 , 0.79199225,\n",
       "       0.77048645, 0.73776033, 0.81644687, 0.7991845 , 0.77983666,\n",
       "       0.73941441, 0.69518046, 0.69323507, 0.69712551, 0.70130413,\n",
       "       0.66794752, 0.75440111, 0.77479013, 0.76455954, 0.77723951,\n",
       "       0.76823384, 0.7821386 , 0.78624496, 0.76261438, 0.77824806,\n",
       "       0.78466014, 0.76333474, 0.7353095 , 0.71333567, 0.76275847,\n",
       "       0.76477568, 0.76117355, 0.7526722 , 0.72587133, 0.71167881,\n",
       "       0.7239981 , 0.72046812, 0.73725467, 0.74431507, 0.72803285,\n",
       "       0.67969087, 0.66535382, 0.64993606, 0.64943184, 0.67212581,\n",
       "       0.64892762, 0.64626199, 0.63307769, 0.60433182, 0.63005188,\n",
       "       0.63235722])"
      ]
     },
     "execution_count": 42,
     "metadata": {},
     "output_type": "execute_result"
    }
   ],
   "source": [
    "y_test"
   ]
  },
  {
   "cell_type": "code",
   "execution_count": 43,
   "id": "19f92bcd",
   "metadata": {},
   "outputs": [
    {
     "data": {
      "text/plain": [
       "(831, 1)"
      ]
     },
     "execution_count": 43,
     "metadata": {},
     "output_type": "execute_result"
    }
   ],
   "source": [
    "y_predicted.shape"
   ]
  },
  {
   "cell_type": "code",
   "execution_count": 44,
   "id": "54f418f9",
   "metadata": {},
   "outputs": [
    {
     "data": {
      "text/plain": [
       "array([0.00729781])"
      ]
     },
     "execution_count": 44,
     "metadata": {},
     "output_type": "execute_result"
    }
   ],
   "source": [
    "scalar.scale_"
   ]
  },
  {
   "cell_type": "code",
   "execution_count": 45,
   "id": "bbaf0d43",
   "metadata": {},
   "outputs": [],
   "source": [
    "scale_factor = 1/0.02099517\n",
    "y_predicted = y_predicted * scale_factor\n",
    "y_test = y_test * scale_factor"
   ]
  },
  {
   "cell_type": "code",
   "execution_count": 46,
   "id": "a12ec720",
   "metadata": {},
   "outputs": [
    {
     "data": {
      "text/plain": [
       "<matplotlib.legend.Legend at 0x17e11411250>"
      ]
     },
     "execution_count": 46,
     "metadata": {},
     "output_type": "execute_result"
    },
    {
     "data": {
      "image/png": "[encoded data removed]",
      "text/plain": [
       "<Figure size 1200x600 with 1 Axes>"
      ]
     },
     "metadata": {},
     "output_type": "display_data"
    }
   ],
   "source": [
    "plt.figure(figsize=(12,6))\n",
    "plt.plot(y_test,'b',label = 'Original Price')\n",
    "plt.plot(y_predicted , 'r' , label = 'Predicted Price')\n",
    "plt.xlabel('Tome')\n",
    "plt.ylabel('Price')\n",
    "plt.legend()"
   ]
  },
  {
   "cell_type": "code",
   "execution_count": 47,
   "id": "f94baca9",
   "metadata": {},
   "outputs": [],
   "source": [
    "scaler = MinMaxScaler(feature_range=(0, 1))\n",
    "scaled_data = scaler.fit_transform(df[['Close']])  # Assumes df['Close'] is your column\n"
   ]
  },
  {
   "cell_type": "code",
   "execution_count": 48,
   "id": "d8c43d0b",
   "metadata": {},
   "outputs": [
    {
     "name": "stderr",
     "output_type": "stream",
     "text": [
      "WARNING:absl:You are saving your model as an HDF5 file via `model.save()` or `keras.saving.save_model(model)`. This file format is considered legacy. We recommend using instead the native Keras format, e.g. `model.save('my_model.keras')` or `keras.saving.save_model(model, 'my_model.keras')`. \n"
     ]
    }
   ],
   "source": [
    "# Save trained model\n",
    "model.save('keras_model.h5')\n",
    "\n",
    "# Save scaler\n",
    "import joblib\n",
    "joblib.dump(scaler, 'scaler.save')\n",
    "\n",
    "# Save last 100 values for forecasting\n",
    "np.save('last_100.npy', scaled_data[-100:])\n"
   ]
  },
  {
   "cell_type": "code",
   "execution_count": null,
   "id": "e87a84a4",
   "metadata": {},
   "outputs": [],
   "source": []
  }
 ],
 "metadata": {
  "kernelspec": {
   "display_name": "Python 3",
   "language": "python",
   "name": "python3"
  },
  "language_info": {
   "codemirror_mode": {
    "name": "ipython",
    "version": 3
   },
   "file_extension": ".py",
   "mimetype": "text/x-python",
   "name": "python",
   "nbconvert_exporter": "python",
   "pygments_lexer": "ipython3",
   "version": "3.12.3"
  }
 },
 "nbformat": 4,
 "nbformat_minor": 5
}
